{
 "cells": [
  {
   "cell_type": "code",
   "execution_count": 1,
   "id": "7616289f-a1f0-443c-a72e-4dfe39572560",
   "metadata": {},
   "outputs": [
    {
     "name": "stderr",
     "output_type": "stream",
     "text": [
      "/home/ubuntu/.local/lib/python3.8/site-packages/pandas/core/computation/expressions.py:20: UserWarning: Pandas requires version '2.7.3' or newer of 'numexpr' (version '2.7.1' currently installed).\n",
      "  from pandas.core.computation.check import NUMEXPR_INSTALLED\n"
     ]
    }
   ],
   "source": [
    "## IMPORT ALL LIBRAIES...\n",
    "\n",
    "import os\n",
    "import copy\n",
    "import pandas as pd \n",
    "import numpy as np \n",
    "import torch\n",
    "import albumentations as A\n",
    "from matplotlib import pyplot as plt\n",
    "from tqdm.notebook import tqdm\n",
    "import torch.nn as nn \n",
    "from albumentations.pytorch.transforms import ToTensorV2\n",
    "from torchvision.datasets import ImageFolder\n",
    "from torchvision import transforms\n",
    "from torchvision.transforms import Compose\n",
    "from torch.utils.data import random_split\n",
    "from torch.utils.data.dataloader import DataLoader \n",
    "import torchvision.models as models\n",
    "from ImageProcess import SplitImages, checkingsplitsame\n",
    "from ImageClfModeling import set_parameter_requires_grad, train_model"
   ]
  },
  {
   "cell_type": "code",
   "execution_count": 2,
   "id": "972da398-7925-4c41-9feb-3e041cb26c96",
   "metadata": {},
   "outputs": [],
   "source": [
    "#--------------------------------------------IMAGE PATH---------------------------------------------\n",
    "\n",
    "# image path\n",
    "train_imagepath = \"TrainImage/train/\"\n",
    "test_imagepath = \"TestImage/test/\""
   ]
  },
  {
   "cell_type": "code",
   "execution_count": 3,
   "id": "907bd40d-c7b9-4bb9-bc3b-9e412a040904",
   "metadata": {},
   "outputs": [],
   "source": [
    "#--------------------------------------------INITIAL GLOBAL TRANSFORMATION---------------------------------------------\n",
    "\n",
    "# global transformation into tensor form (train data)\n",
    "global_transform = Compose([transforms.ToTensor()])\n",
    "database_train = ImageFolder(root=train_imagepath, transform=global_transform)"
   ]
  },
  {
   "cell_type": "code",
   "execution_count": 4,
   "id": "99895c6f-164e-4796-b5bb-d4b432fc74ec",
   "metadata": {},
   "outputs": [],
   "source": [
    "# global transformation into tensor form (test data)\n",
    "database_test = ImageFolder(root=test_imagepath, transform=global_transform)"
   ]
  },
  {
   "cell_type": "code",
   "execution_count": 5,
   "id": "7a0740ab-a723-4307-b0f9-85adf29fe6e9",
   "metadata": {},
   "outputs": [],
   "source": [
    "# plotting tensor images\n",
    "\n",
    "def tensorimageplot(tensorarray, caption=\"\"):\n",
    "    x = tensorarray.permute(1, 2, 0)\n",
    "    plt.imshow(x) \n",
    "    plt.title(caption)\n",
    "    plt.axis(\"off\")"
   ]
  },
  {
   "cell_type": "code",
   "execution_count": 6,
   "id": "0e94bc0d-c412-486e-8339-b409bb5a954b",
   "metadata": {},
   "outputs": [],
   "source": [
    "#--------------------------------------------CLASS LABELS TO INDEX---------------------------------------------\n",
    "\n",
    "# class names from index to class\n",
    "class_names = [x for x in database_train.classes]\n",
    "class_name_dict = {}\n",
    "for ix, val in enumerate(class_names):\n",
    "    class_name_dict[ix] = val"
   ]
  },
  {
   "cell_type": "code",
   "execution_count": 7,
   "id": "cda5f32c-35be-493c-949f-50aee14d93fa",
   "metadata": {},
   "outputs": [],
   "source": [
    "#--------------------------------------------RANDOMIZED IMAGE SPLIT---------------------------------------------\n",
    "\n",
    "# random images split \n",
    "valid_div = 10\n",
    "test_div = 1\n",
    "randomseed = 10\n",
    "valid_sz = len(database_train)//valid_div\n",
    "train_sz = len(database_train) - (len(database_train)//valid_div)\n",
    "test_sz = len(database_test)\n",
    "\n",
    "# train and valid\n",
    "torch.manual_seed(randomseed)\n",
    "train_ds, valid_ds = random_split(database_train, [train_sz, valid_sz])\n",
    "\n",
    "# test\n",
    "test_ds = random_split(database_test, [test_sz])[0]"
   ]
  },
  {
   "cell_type": "code",
   "execution_count": 8,
   "id": "c02f06ea-7dd9-4fbd-a623-a34560dc4979",
   "metadata": {},
   "outputs": [
    {
     "name": "stdout",
     "output_type": "stream",
     "text": [
      "Train: Datset is not Matching\n"
     ]
    }
   ],
   "source": [
    "# testing indices for test data with train data \n",
    "checkingsplitsame(train_ds, valid_ds, \"Train\")"
   ]
  },
  {
   "cell_type": "code",
   "execution_count": 9,
   "id": "55cdf683-6648-47f6-9e34-1b0f3ced09d8",
   "metadata": {},
   "outputs": [
    {
     "name": "stdout",
     "output_type": "stream",
     "text": [
      "\n",
      "AUGMENTING TRAINING IMAGES\n",
      "\n"
     ]
    },
    {
     "name": "stderr",
     "output_type": "stream",
     "text": [
      "/home/ubuntu/.local/lib/python3.8/site-packages/albumentations/augmentations/dropout/cutout.py:49: FutureWarning: Cutout has been deprecated. Please use CoarseDropout\n",
      "  warnings.warn(\n"
     ]
    },
    {
     "data": {
      "application/vnd.jupyter.widget-view+json": {
       "model_id": "4d8e6fd33b6547d69656e5b9edf3ceda",
       "version_major": 2,
       "version_minor": 0
      },
      "text/plain": [
       "  0%|          | 0/11044 [00:00<?, ?it/s]"
      ]
     },
     "metadata": {},
     "output_type": "display_data"
    },
    {
     "name": "stderr",
     "output_type": "stream",
     "text": [
      "/home/ubuntu/.local/lib/python3.8/site-packages/albumentations/augmentations/functional.py:485: UserWarning: Image compression augmentation is most effective with uint8 inputs, float32 is used as input.\n",
      "  warn(\n"
     ]
    }
   ],
   "source": [
    "#--------------------------------------------DATA AUGMENTATION---------------------------------------------\n",
    "\n",
    "# train transformation \n",
    "print()\n",
    "print(\"AUGMENTING TRAINING IMAGES\")\n",
    "print()\n",
    "train_transform = A.Compose([A.HorizontalFlip(p=0.5), \n",
    "                            A.ImageCompression(quality_lower=99, quality_upper=100),\n",
    "                            A.ShiftScaleRotate(shift_limit=0.2, scale_limit=0.2, rotate_limit=10,\n",
    "                                              border_mode=0, p=0.7),\n",
    "                            A.Resize(224, 224),\n",
    "                            A.Cutout(max_h_size=int(224*0.4), max_w_size=int(224*0.4), \n",
    "                                    num_holes=1, p=0.65),\n",
    "                            ToTensorV2()])\n",
    "\n",
    "traindata_trans = []\n",
    "\n",
    "for img, lb in tqdm(train_ds):\n",
    "    im = train_transform(image=img.permute(1,2,0).numpy())\n",
    "    traindata_trans.append((im[\"image\"], lb))"
   ]
  },
  {
   "cell_type": "code",
   "execution_count": 10,
   "id": "261f556a-e126-4c07-9cc9-ae8cdeeb66e1",
   "metadata": {},
   "outputs": [
    {
     "name": "stdout",
     "output_type": "stream",
     "text": [
      "\n",
      "AUGMENTING VALIDATION IMAGES\n",
      "\n"
     ]
    },
    {
     "data": {
      "application/vnd.jupyter.widget-view+json": {
       "model_id": "9c18f07c424f4855b308992507341605",
       "version_major": 2,
       "version_minor": 0
      },
      "text/plain": [
       "  0%|          | 0/1227 [00:00<?, ?it/s]"
      ]
     },
     "metadata": {},
     "output_type": "display_data"
    }
   ],
   "source": [
    "# validation transformation \n",
    "print()\n",
    "print(\"AUGMENTING VALIDATION IMAGES\")\n",
    "print()\n",
    "valid_transform = A.Compose([A.Resize(224, 244),\n",
    "                            ToTensorV2()])\n",
    "\n",
    "validdata_trans = []\n",
    "\n",
    "for img, lb in tqdm(valid_ds):\n",
    "    im = valid_transform(image = img.permute(1,2,0).numpy())\n",
    "    validdata_trans.append((im[\"image\"], lb))"
   ]
  },
  {
   "cell_type": "code",
   "execution_count": 11,
   "id": "18cb0251-fa6d-4d8c-9d59-5ba74f93ae74",
   "metadata": {},
   "outputs": [
    {
     "name": "stdout",
     "output_type": "stream",
     "text": [
      "\n",
      "AUGMENTING TEST IMAGES\n",
      "\n"
     ]
    },
    {
     "data": {
      "application/vnd.jupyter.widget-view+json": {
       "model_id": "677d5980a5e84857b6fdc3562991cc35",
       "version_major": 2,
       "version_minor": 0
      },
      "text/plain": [
       "  0%|          | 0/3068 [00:00<?, ?it/s]"
      ]
     },
     "metadata": {},
     "output_type": "display_data"
    }
   ],
   "source": [
    "# test data transformation \n",
    "print()\n",
    "print(\"AUGMENTING TEST IMAGES\")\n",
    "print()\n",
    "test_transform = A.Compose([A.Resize(224, 244),\n",
    "                            ToTensorV2()])\n",
    "\n",
    "testdata_trans = []\n",
    "\n",
    "for img, lb in tqdm(test_ds):\n",
    "    im = test_transform(image = img.permute(1,2,0).numpy())\n",
    "    testdata_trans.append((im[\"image\"], lb))"
   ]
  },
  {
   "cell_type": "code",
   "execution_count": 12,
   "id": "b5867bc2-31d6-4508-8e30-f632b640123c",
   "metadata": {},
   "outputs": [],
   "source": [
    "#--------------------------------------------DATA LOADERS---------------------------------------------  \n",
    "\n",
    "\n",
    "# batch size for train and validation data \n",
    "batch_size_ = 256\n",
    "\n",
    "# batch size for test data (we want to test all the data at one go)\n",
    "batch_test = len(test_ds)\n",
    "\n",
    "# Iterative Data loader\n",
    "train_dl = DataLoader(traindata_trans, batch_size=batch_size_, shuffle=True, num_workers=2)\n",
    "valid_dl = DataLoader(validdata_trans, batch_size=batch_size_, shuffle=True, num_workers=2)\n",
    "test_dl = DataLoader(testdata_trans, batch_size=batch_test, shuffle=False, num_workers=2)"
   ]
  },
  {
   "cell_type": "code",
   "execution_count": 13,
   "id": "aa326589-6f3d-40df-af8b-04485dfd0474",
   "metadata": {},
   "outputs": [],
   "source": [
    "#-------------------------------MODEL---------------------------------------\n",
    "\n",
    "\n",
    "# Initialising the pre trained model\n",
    "'''def initialize_model(num_classes, feature_extract, use_pretrained=True):\n",
    "    model_ft = models.resnet50(pretrained=use_pretrained)\n",
    "    set_parameter_requires_grad(model_ft, feature_extract)\n",
    "    num_ftrs = model_ft.fc.in_features\n",
    "    model_ft.fc =  nn.Sequential(nn.Dropout(0.1),nn.Linear(num_ftrs,num_classes))\n",
    "    return model_ft'''\n",
    "\n",
    "'''def initialize_model(num_classes, feature_extract, use_pretrained=True):\n",
    "    model_ft = models.alexnet(pretrained=use_pretrained)\n",
    "    set_parameter_requires_grad(model_ft, feature_extract)\n",
    "    model_last_inp = model_ft.classifier[6].in_features\n",
    "    model_ft.classifier[6] = nn.Linear(model_last_inp, num_classes)\n",
    "    return model_ft'''\n",
    "\n",
    "def initialize_model(num_classes, feature_extract, use_pretrained=True):\n",
    "    model_ft = models.vgg16(pretrained=use_pretrained)\n",
    "    set_parameter_requires_grad(model_ft, feature_extract)\n",
    "    num_ftrs = model_ft.classifier[6].in_features\n",
    "    model_ft.classifier[6] =  nn.Linear(num_ftrs,num_classes)\n",
    "    return model_ft"
   ]
  },
  {
   "cell_type": "code",
   "execution_count": 14,
   "id": "871f69e2-a1b0-479f-b058-29e0c1df245e",
   "metadata": {},
   "outputs": [
    {
     "name": "stderr",
     "output_type": "stream",
     "text": [
      "/usr/lib/python3/dist-packages/torchvision/models/_utils.py:208: UserWarning: The parameter 'pretrained' is deprecated since 0.13 and will be removed in 0.15, please use 'weights' instead.\n",
      "  warnings.warn(\n",
      "/usr/lib/python3/dist-packages/torchvision/models/_utils.py:223: UserWarning: Arguments other than a weight enum or `None` for 'weights' are deprecated since 0.13 and will be removed in 0.15. The current behavior is equivalent to passing `weights=VGG16_Weights.IMAGENET1K_V1`. You can also use `weights=VGG16_Weights.DEFAULT` to get the most up-to-date weights.\n",
      "  warnings.warn(msg)\n"
     ]
    },
    {
     "name": "stdout",
     "output_type": "stream",
     "text": [
      "VGG(\n",
      "  (features): Sequential(\n",
      "    (0): Conv2d(3, 64, kernel_size=(3, 3), stride=(1, 1), padding=(1, 1))\n",
      "    (1): ReLU(inplace=True)\n",
      "    (2): Conv2d(64, 64, kernel_size=(3, 3), stride=(1, 1), padding=(1, 1))\n",
      "    (3): ReLU(inplace=True)\n",
      "    (4): MaxPool2d(kernel_size=2, stride=2, padding=0, dilation=1, ceil_mode=False)\n",
      "    (5): Conv2d(64, 128, kernel_size=(3, 3), stride=(1, 1), padding=(1, 1))\n",
      "    (6): ReLU(inplace=True)\n",
      "    (7): Conv2d(128, 128, kernel_size=(3, 3), stride=(1, 1), padding=(1, 1))\n",
      "    (8): ReLU(inplace=True)\n",
      "    (9): MaxPool2d(kernel_size=2, stride=2, padding=0, dilation=1, ceil_mode=False)\n",
      "    (10): Conv2d(128, 256, kernel_size=(3, 3), stride=(1, 1), padding=(1, 1))\n",
      "    (11): ReLU(inplace=True)\n",
      "    (12): Conv2d(256, 256, kernel_size=(3, 3), stride=(1, 1), padding=(1, 1))\n",
      "    (13): ReLU(inplace=True)\n",
      "    (14): Conv2d(256, 256, kernel_size=(3, 3), stride=(1, 1), padding=(1, 1))\n",
      "    (15): ReLU(inplace=True)\n",
      "    (16): MaxPool2d(kernel_size=2, stride=2, padding=0, dilation=1, ceil_mode=False)\n",
      "    (17): Conv2d(256, 512, kernel_size=(3, 3), stride=(1, 1), padding=(1, 1))\n",
      "    (18): ReLU(inplace=True)\n",
      "    (19): Conv2d(512, 512, kernel_size=(3, 3), stride=(1, 1), padding=(1, 1))\n",
      "    (20): ReLU(inplace=True)\n",
      "    (21): Conv2d(512, 512, kernel_size=(3, 3), stride=(1, 1), padding=(1, 1))\n",
      "    (22): ReLU(inplace=True)\n",
      "    (23): MaxPool2d(kernel_size=2, stride=2, padding=0, dilation=1, ceil_mode=False)\n",
      "    (24): Conv2d(512, 512, kernel_size=(3, 3), stride=(1, 1), padding=(1, 1))\n",
      "    (25): ReLU(inplace=True)\n",
      "    (26): Conv2d(512, 512, kernel_size=(3, 3), stride=(1, 1), padding=(1, 1))\n",
      "    (27): ReLU(inplace=True)\n",
      "    (28): Conv2d(512, 512, kernel_size=(3, 3), stride=(1, 1), padding=(1, 1))\n",
      "    (29): ReLU(inplace=True)\n",
      "    (30): MaxPool2d(kernel_size=2, stride=2, padding=0, dilation=1, ceil_mode=False)\n",
      "  )\n",
      "  (avgpool): AdaptiveAvgPool2d(output_size=(7, 7))\n",
      "  (classifier): Sequential(\n",
      "    (0): Linear(in_features=25088, out_features=4096, bias=True)\n",
      "    (1): ReLU(inplace=True)\n",
      "    (2): Dropout(p=0.5, inplace=False)\n",
      "    (3): Linear(in_features=4096, out_features=4096, bias=True)\n",
      "    (4): ReLU(inplace=True)\n",
      "    (5): Dropout(p=0.5, inplace=False)\n",
      "    (6): Linear(in_features=4096, out_features=7, bias=True)\n",
      "  )\n",
      ")\n"
     ]
    }
   ],
   "source": [
    "#--------------------------------------INITIALIZING PRE TRAINED MODEL-----------------------------------\n",
    "\n",
    "\n",
    "num_classes = len(class_name_dict)\n",
    "feature_extract = False\n",
    "\n",
    "# pre trained model\n",
    "model_ft = initialize_model(num_classes, feature_extract, use_pretrained=True)\n",
    "\n",
    "# Print the model we just instantiated\n",
    "print(model_ft)"
   ]
  },
  {
   "cell_type": "code",
   "execution_count": 15,
   "id": "f0c16d5a-fc2b-45a0-8c10-f105acb50b7f",
   "metadata": {},
   "outputs": [
    {
     "name": "stdout",
     "output_type": "stream",
     "text": [
      "using cuda device\n",
      "Params to learn:\n",
      "\t features.0.weight\n",
      "\t features.0.bias\n",
      "\t features.2.weight\n",
      "\t features.2.bias\n",
      "\t features.5.weight\n",
      "\t features.5.bias\n",
      "\t features.7.weight\n",
      "\t features.7.bias\n",
      "\t features.10.weight\n",
      "\t features.10.bias\n",
      "\t features.12.weight\n",
      "\t features.12.bias\n",
      "\t features.14.weight\n",
      "\t features.14.bias\n",
      "\t features.17.weight\n",
      "\t features.17.bias\n",
      "\t features.19.weight\n",
      "\t features.19.bias\n",
      "\t features.21.weight\n",
      "\t features.21.bias\n",
      "\t features.24.weight\n",
      "\t features.24.bias\n",
      "\t features.26.weight\n",
      "\t features.26.bias\n",
      "\t features.28.weight\n",
      "\t features.28.bias\n",
      "\t classifier.0.weight\n",
      "\t classifier.0.bias\n",
      "\t classifier.3.weight\n",
      "\t classifier.3.bias\n",
      "\t classifier.6.weight\n",
      "\t classifier.6.bias\n"
     ]
    }
   ],
   "source": [
    "#--------------------------------SENDING MODEL TO GPU-------------------------------------\n",
    "\n",
    "\n",
    "# Send the model to GPU\n",
    "device = 'cuda' if torch.cuda.is_available() else 'cpu'\n",
    "if device == 'cuda':\n",
    "    torch.backends.cudnn.benchmark = True\n",
    "print(f'using {device} device')\n",
    "\n",
    "model_ft = model_ft.to(device)\n",
    "\n",
    "params_to_update = model_ft.parameters()\n",
    "print(\"Params to learn:\")\n",
    "\n",
    "for name,param in model_ft.named_parameters():\n",
    "    if param.requires_grad == True:\n",
    "        print(\"\\t\",name)"
   ]
  },
  {
   "cell_type": "code",
   "execution_count": 16,
   "id": "a1307b42-1532-4790-829a-ae62b95bdfd3",
   "metadata": {},
   "outputs": [],
   "source": [
    "#--------------------------------MODEL PARAMETERS---------------------------------------------\n",
    "\n",
    "\n",
    "# Epochs\n",
    "epochs_ = 12\n",
    "\n",
    "# learning rate\n",
    "lr= 1e-3\n",
    "\n",
    "# momentum\n",
    "moment = 0.9\n",
    "\n",
    "# Optimizer\n",
    "optimizer_ft = torch.optim.SGD(params_to_update, lr=lr, momentum=moment)\n",
    "\n",
    "# Setup the loss fxn\n",
    "criterion = nn.CrossEntropyLoss()"
   ]
  },
  {
   "cell_type": "code",
   "execution_count": 17,
   "id": "112a299a-a0ee-43a3-a487-44e5d5b7d786",
   "metadata": {},
   "outputs": [
    {
     "name": "stdout",
     "output_type": "stream",
     "text": [
      "Epoch: 0| train loss: 406.0809326171875| valid loss: 357.3874816894531| train acc: 0.7457584142684937| valid acc: 0.7855218648910522\n",
      "Epoch: 1| train loss: 357.4235534667969| valid loss: 316.2204284667969| train acc: 0.8042140603065491| valid acc: 0.8402786254882812\n",
      "Epoch: 2| train loss: 324.5345458984375| valid loss: 283.42523193359375| train acc: 0.8387784361839294| valid acc: 0.8628694415092468\n",
      "Epoch: 3| train loss: 299.9707946777344| valid loss: 277.1204833984375| train acc: 0.8595920205116272| valid acc: 0.8811768293380737\n",
      "Epoch: 4| train loss: 279.0066223144531| valid loss: 249.55752563476562| train acc: 0.873046875| valid acc: 0.8998268246650696\n",
      "Epoch: 5| train loss: 261.0922546386719| valid loss: 233.31887817382812| train acc: 0.8876558542251587| valid acc: 0.9094058275222778\n",
      "Epoch: 6| train loss: 241.78915405273438| valid loss: 218.7655029296875| train acc: 0.9047901034355164| valid acc: 0.9276477694511414\n",
      "Epoch: 7| train loss: 229.52969360351562| valid loss: 214.25521850585938| train acc: 0.9127998352050781| valid acc: 0.9332858920097351\n",
      "Epoch: 8| train loss: 216.14939880371094| valid loss: 210.83584594726562| train acc: 0.9185507297515869| valid acc: 0.9246921539306641\n",
      "Epoch: 9| train loss: 203.19224548339844| valid loss: 197.4769287109375| train acc: 0.9275370240211487| valid acc: 0.9303647875785828\n",
      "Epoch: 10| train loss: 193.96527099609375| valid loss: 201.80128479003906| train acc: 0.933139979839325| valid acc: 0.9325046539306641\n",
      "Epoch: 11| train loss: 181.71067810058594| valid loss: 189.36033630371094| train acc: 0.941465437412262| valid acc: 0.9377347826957703\n"
     ]
    }
   ],
   "source": [
    "#----------------------------------- TRAIN & VALIDATE--------------------------------------\n",
    "\n",
    "#dataloaders\n",
    "dataloaders_dict ={}\n",
    "dataloaders_dict['train']= train_dl\n",
    "dataloaders_dict['valid'] = valid_dl\n",
    "\n",
    "# Train and evaluate\n",
    "model_ft, epoch_loss_train, epoch_acc_train, epoch_loss_valid, epoch_acc_valid  = train_model(model_ft, dataloaders_dict, criterion, optimizer_ft, device, num_epochs=epochs_)"
   ]
  },
  {
   "cell_type": "code",
   "execution_count": 18,
   "id": "aa316269-6aae-4273-a51c-6af4ee1a8761",
   "metadata": {},
   "outputs": [
    {
     "data": {
      "image/png": "[encoded data removed]",
      "text/plain": [
       "<Figure size 432x288 with 1 Axes>"
      ]
     },
     "metadata": {
      "needs_background": "light"
     },
     "output_type": "display_data"
    }
   ],
   "source": [
    "plt.plot(epoch_loss_train, label=\"Training Loss\")\n",
    "plt.plot(epoch_loss_valid, label=\"Validation Loss\")\n",
    "plt.title(\"Training and Validation Loss\")\n",
    "plt.xlabel(\"Epochs\")\n",
    "plt.ylabel(\"Loss\")\n",
    "plt.show()"
   ]
  },
  {
   "cell_type": "code",
   "execution_count": 19,
   "id": "edf828fd-dcad-4e18-afab-1bd7280cfe27",
   "metadata": {},
   "outputs": [
    {
     "data": {
      "image/png": "[encoded data removed]",
      "text/plain": [
       "<Figure size 432x288 with 1 Axes>"
      ]
     },
     "metadata": {
      "needs_background": "light"
     },
     "output_type": "display_data"
    }
   ],
   "source": [
    "plt.plot(epoch_acc_train, label=\"Training Accuracy\")\n",
    "plt.plot(epoch_acc_valid, label=\"Validation Accuracy\")\n",
    "plt.title(\"Training and Validation Accuracy\")\n",
    "plt.xlabel(\"Epochs\")\n",
    "plt.ylabel(\"Accuracy %\")\n",
    "plt.show()"
   ]
  },
  {
   "cell_type": "code",
   "execution_count": 21,
   "id": "c9a5a549-fcaf-40b2-b34a-6f5f4979c55c",
   "metadata": {},
   "outputs": [],
   "source": [
    "# save model\n",
    "torch.save(model_ft.state_dict(), \"VggNet_FER_weight.pt\")"
   ]
  }
 ],
 "metadata": {
  "kernelspec": {
   "display_name": "Python 3 (ipykernel)",
   "language": "python",
   "name": "python3"
  },
  "language_info": {
   "codemirror_mode": {
    "name": "ipython",
    "version": 3
   },
   "file_extension": ".py",
   "mimetype": "text/x-python",
   "name": "python",
   "nbconvert_exporter": "python",
   "pygments_lexer": "ipython3",
   "version": "3.9.12"
  }
 },
 "nbformat": 4,
 "nbformat_minor": 5
}
