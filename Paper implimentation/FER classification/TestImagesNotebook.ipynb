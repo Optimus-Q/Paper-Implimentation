{
 "cells": [
  {
   "cell_type": "code",
   "execution_count": 1,
   "id": "b3cb1c34-dfbf-4568-bab0-5055095dea7c",
   "metadata": {},
   "outputs": [
    {
     "name": "stderr",
     "output_type": "stream",
     "text": [
      "/home/ubuntu/.local/lib/python3.8/site-packages/pandas/core/computation/expressions.py:20: UserWarning: Pandas requires version '2.7.3' or newer of 'numexpr' (version '2.7.1' currently installed).\n",
      "  from pandas.core.computation.check import NUMEXPR_INSTALLED\n"
     ]
    }
   ],
   "source": [
    "## IMPORT ALL LIBRAIES...\n",
    "\n",
    "import os\n",
    "import copy\n",
    "import pandas as pd \n",
    "import numpy as np \n",
    "import torch\n",
    "import albumentations as A\n",
    "from matplotlib import pyplot as plt\n",
    "from tqdm.notebook import tqdm\n",
    "import torch.nn as nn \n",
    "from albumentations.pytorch.transforms import ToTensorV2\n",
    "from torchvision.datasets import ImageFolder\n",
    "from torchvision import transforms\n",
    "from torchvision.transforms import Compose\n",
    "from torch.utils.data import random_split\n",
    "from torch.utils.data.dataloader import DataLoader \n",
    "import torchvision.models as models\n",
    "from ImageProcess import SplitImages, checkingsplitsame\n",
    "from ImageClfModeling import set_parameter_requires_grad, train_model"
   ]
  },
  {
   "cell_type": "code",
   "execution_count": 2,
   "id": "e7ea0e71-050d-4928-a70f-90b563ae9435",
   "metadata": {},
   "outputs": [],
   "source": [
    "# test image path\n",
    "test_imagepath = \"TestImage/test/\""
   ]
  },
  {
   "cell_type": "code",
   "execution_count": 4,
   "id": "0373d942-1f0d-4c7e-b1da-9d825d4b0c79",
   "metadata": {},
   "outputs": [],
   "source": [
    "# global transformation into tensor form (test data)\n",
    "global_transform = Compose([transforms.ToTensor()])\n",
    "database_test = ImageFolder(root=test_imagepath, transform=global_transform)"
   ]
  },
  {
   "cell_type": "code",
   "execution_count": 5,
   "id": "7f660725-b8b6-4a82-bb50-a2e3c95af671",
   "metadata": {},
   "outputs": [],
   "source": [
    "#--------------------------------------------CLASS LABELS TO INDEX---------------------------------------------\n",
    "\n",
    "# class names from index to class\n",
    "class_names = [x for x in database_test.classes]\n",
    "class_name_dict = {}\n",
    "for ix, val in enumerate(class_names):\n",
    "    class_name_dict[ix] = val"
   ]
  },
  {
   "cell_type": "code",
   "execution_count": 6,
   "id": "3f004170-5167-4a6a-85bb-193ebb5be8af",
   "metadata": {},
   "outputs": [],
   "source": [
    "test_sz = len(database_test)\n",
    "# test\n",
    "test_ds = random_split(database_test, [test_sz])[0]"
   ]
  },
  {
   "cell_type": "code",
   "execution_count": 7,
   "id": "581ecb67-9907-462c-94b0-3b4ab4436837",
   "metadata": {},
   "outputs": [
    {
     "name": "stdout",
     "output_type": "stream",
     "text": [
      "\n",
      "AUGMENTING TEST IMAGES\n",
      "\n"
     ]
    },
    {
     "data": {
      "application/vnd.jupyter.widget-view+json": {
       "model_id": "c78ba7af3f204aa0bcf441c42ab5c0e1",
       "version_major": 2,
       "version_minor": 0
      },
      "text/plain": [
       "  0%|          | 0/3068 [00:00<?, ?it/s]"
      ]
     },
     "metadata": {},
     "output_type": "display_data"
    }
   ],
   "source": [
    "# test data transformation \n",
    "print()\n",
    "print(\"AUGMENTING TEST IMAGES\")\n",
    "print()\n",
    "test_transform = A.Compose([A.Resize(224, 244),\n",
    "                            ToTensorV2()])\n",
    "\n",
    "testdata_trans = []\n",
    "\n",
    "for img, lb in tqdm(test_ds):\n",
    "    im = test_transform(image = img.permute(1,2,0).numpy())\n",
    "    testdata_trans.append((im[\"image\"], lb))"
   ]
  },
  {
   "cell_type": "code",
   "execution_count": 8,
   "id": "966d193b-2bd4-4946-8257-70363ce2700d",
   "metadata": {},
   "outputs": [],
   "source": [
    "#--------------------------------------------DATA LOADERS---------------------------------------------  \n",
    "\n",
    "\n",
    "# batch size for test data (we want to test all the data at one go)\n",
    "batch_test = len(test_ds)\n",
    "\n",
    "# Iterative Data loader\n",
    "test_dl = DataLoader(testdata_trans, batch_size=batch_test, shuffle=False, num_workers=2)"
   ]
  },
  {
   "cell_type": "code",
   "execution_count": 9,
   "id": "1560612d-2450-4b86-85ba-5e2d52c26572",
   "metadata": {},
   "outputs": [],
   "source": [
    "def initialize_model(num_classes, feature_extract, use_pretrained=True):\n",
    "    model_ft = models.vgg16(pretrained=use_pretrained)\n",
    "    set_parameter_requires_grad(model_ft, feature_extract)\n",
    "    num_ftrs = model_ft.classifier[6].in_features\n",
    "    model_ft.classifier[6] =  nn.Linear(num_ftrs,num_classes)\n",
    "    return model_ft"
   ]
  },
  {
   "cell_type": "code",
   "execution_count": 10,
   "id": "e9b1a019-ff58-402b-ae22-55682c8e73e1",
   "metadata": {},
   "outputs": [
    {
     "name": "stderr",
     "output_type": "stream",
     "text": [
      "/usr/lib/python3/dist-packages/torchvision/models/_utils.py:208: UserWarning: The parameter 'pretrained' is deprecated since 0.13 and will be removed in 0.15, please use 'weights' instead.\n",
      "  warnings.warn(\n",
      "/usr/lib/python3/dist-packages/torchvision/models/_utils.py:223: UserWarning: Arguments other than a weight enum or `None` for 'weights' are deprecated since 0.13 and will be removed in 0.15. The current behavior is equivalent to passing `weights=VGG16_Weights.IMAGENET1K_V1`. You can also use `weights=VGG16_Weights.DEFAULT` to get the most up-to-date weights.\n",
      "  warnings.warn(msg)\n",
      "Downloading: \"https://download.pytorch.org/models/vgg16-397923af.pth\" to /home/ubuntu/.cache/torch/hub/checkpoints/vgg16-397923af.pth\n"
     ]
    },
    {
     "data": {
      "application/vnd.jupyter.widget-view+json": {
       "model_id": "28d44ef8a5ec43d5b49fcae4ac8ffb88",
       "version_major": 2,
       "version_minor": 0
      },
      "text/plain": [
       "  0%|          | 0.00/528M [00:00<?, ?B/s]"
      ]
     },
     "metadata": {},
     "output_type": "display_data"
    },
    {
     "name": "stdout",
     "output_type": "stream",
     "text": [
      "VGG(\n",
      "  (features): Sequential(\n",
      "    (0): Conv2d(3, 64, kernel_size=(3, 3), stride=(1, 1), padding=(1, 1))\n",
      "    (1): ReLU(inplace=True)\n",
      "    (2): Conv2d(64, 64, kernel_size=(3, 3), stride=(1, 1), padding=(1, 1))\n",
      "    (3): ReLU(inplace=True)\n",
      "    (4): MaxPool2d(kernel_size=2, stride=2, padding=0, dilation=1, ceil_mode=False)\n",
      "    (5): Conv2d(64, 128, kernel_size=(3, 3), stride=(1, 1), padding=(1, 1))\n",
      "    (6): ReLU(inplace=True)\n",
      "    (7): Conv2d(128, 128, kernel_size=(3, 3), stride=(1, 1), padding=(1, 1))\n",
      "    (8): ReLU(inplace=True)\n",
      "    (9): MaxPool2d(kernel_size=2, stride=2, padding=0, dilation=1, ceil_mode=False)\n",
      "    (10): Conv2d(128, 256, kernel_size=(3, 3), stride=(1, 1), padding=(1, 1))\n",
      "    (11): ReLU(inplace=True)\n",
      "    (12): Conv2d(256, 256, kernel_size=(3, 3), stride=(1, 1), padding=(1, 1))\n",
      "    (13): ReLU(inplace=True)\n",
      "    (14): Conv2d(256, 256, kernel_size=(3, 3), stride=(1, 1), padding=(1, 1))\n",
      "    (15): ReLU(inplace=True)\n",
      "    (16): MaxPool2d(kernel_size=2, stride=2, padding=0, dilation=1, ceil_mode=False)\n",
      "    (17): Conv2d(256, 512, kernel_size=(3, 3), stride=(1, 1), padding=(1, 1))\n",
      "    (18): ReLU(inplace=True)\n",
      "    (19): Conv2d(512, 512, kernel_size=(3, 3), stride=(1, 1), padding=(1, 1))\n",
      "    (20): ReLU(inplace=True)\n",
      "    (21): Conv2d(512, 512, kernel_size=(3, 3), stride=(1, 1), padding=(1, 1))\n",
      "    (22): ReLU(inplace=True)\n",
      "    (23): MaxPool2d(kernel_size=2, stride=2, padding=0, dilation=1, ceil_mode=False)\n",
      "    (24): Conv2d(512, 512, kernel_size=(3, 3), stride=(1, 1), padding=(1, 1))\n",
      "    (25): ReLU(inplace=True)\n",
      "    (26): Conv2d(512, 512, kernel_size=(3, 3), stride=(1, 1), padding=(1, 1))\n",
      "    (27): ReLU(inplace=True)\n",
      "    (28): Conv2d(512, 512, kernel_size=(3, 3), stride=(1, 1), padding=(1, 1))\n",
      "    (29): ReLU(inplace=True)\n",
      "    (30): MaxPool2d(kernel_size=2, stride=2, padding=0, dilation=1, ceil_mode=False)\n",
      "  )\n",
      "  (avgpool): AdaptiveAvgPool2d(output_size=(7, 7))\n",
      "  (classifier): Sequential(\n",
      "    (0): Linear(in_features=25088, out_features=4096, bias=True)\n",
      "    (1): ReLU(inplace=True)\n",
      "    (2): Dropout(p=0.5, inplace=False)\n",
      "    (3): Linear(in_features=4096, out_features=4096, bias=True)\n",
      "    (4): ReLU(inplace=True)\n",
      "    (5): Dropout(p=0.5, inplace=False)\n",
      "    (6): Linear(in_features=4096, out_features=7, bias=True)\n",
      "  )\n",
      ")\n"
     ]
    }
   ],
   "source": [
    "#--------------------------------------INITIALIZING PRE TRAINED MODEL-----------------------------------\n",
    "\n",
    "\n",
    "num_classes = len(class_name_dict)\n",
    "feature_extract = False\n",
    "\n",
    "# pre trained model\n",
    "model_ft = initialize_model(num_classes, feature_extract, use_pretrained=True)\n",
    "\n",
    "# Print the model we just instantiated\n",
    "print(model_ft)"
   ]
  },
  {
   "cell_type": "code",
   "execution_count": 11,
   "id": "d02e285c-51d0-4e57-80d0-a2067bb1e6ed",
   "metadata": {},
   "outputs": [
    {
     "name": "stdout",
     "output_type": "stream",
     "text": [
      "using cuda device\n",
      "Params to learn:\n",
      "\t features.0.weight\n",
      "\t features.0.bias\n",
      "\t features.2.weight\n",
      "\t features.2.bias\n",
      "\t features.5.weight\n",
      "\t features.5.bias\n",
      "\t features.7.weight\n",
      "\t features.7.bias\n",
      "\t features.10.weight\n",
      "\t features.10.bias\n",
      "\t features.12.weight\n",
      "\t features.12.bias\n",
      "\t features.14.weight\n",
      "\t features.14.bias\n",
      "\t features.17.weight\n",
      "\t features.17.bias\n",
      "\t features.19.weight\n",
      "\t features.19.bias\n",
      "\t features.21.weight\n",
      "\t features.21.bias\n",
      "\t features.24.weight\n",
      "\t features.24.bias\n",
      "\t features.26.weight\n",
      "\t features.26.bias\n",
      "\t features.28.weight\n",
      "\t features.28.bias\n",
      "\t classifier.0.weight\n",
      "\t classifier.0.bias\n",
      "\t classifier.3.weight\n",
      "\t classifier.3.bias\n",
      "\t classifier.6.weight\n",
      "\t classifier.6.bias\n"
     ]
    }
   ],
   "source": [
    "#--------------------------------SENDING MODEL TO GPU-------------------------------------\n",
    "\n",
    "\n",
    "# Send the model to GPU\n",
    "device = 'cuda' if torch.cuda.is_available() else 'cpu'\n",
    "if device == 'cuda':\n",
    "    torch.backends.cudnn.benchmark = True\n",
    "print(f'using {device} device')\n",
    "\n",
    "model_ft = model_ft.to(device)\n",
    "\n",
    "params_to_update = model_ft.parameters()\n",
    "print(\"Params to learn:\")\n",
    "\n",
    "for name,param in model_ft.named_parameters():\n",
    "    if param.requires_grad == True:\n",
    "        print(\"\\t\",name)"
   ]
  },
  {
   "cell_type": "code",
   "execution_count": 12,
   "id": "fe5463a2-94eb-4935-a0a6-0ae3f4d4b275",
   "metadata": {},
   "outputs": [],
   "source": [
    "#--------------------------------MODEL PARAMETERS---------------------------------------------\n",
    "\n",
    "\n",
    "# Epochs\n",
    "epochs_ = 12\n",
    "\n",
    "# learning rate\n",
    "lr= 1e-3\n",
    "\n",
    "# momentum\n",
    "moment = 0.9\n",
    "\n",
    "# Optimizer\n",
    "optimizer_ft = torch.optim.SGD(params_to_update, lr=lr, momentum=moment)\n",
    "\n",
    "# Setup the loss fxn\n",
    "criterion = nn.CrossEntropyLoss()"
   ]
  },
  {
   "cell_type": "code",
   "execution_count": 13,
   "id": "5400706f-1e07-4245-acd2-df4ee0653808",
   "metadata": {},
   "outputs": [
    {
     "data": {
      "text/plain": [
       "<All keys matched successfully>"
      ]
     },
     "execution_count": 13,
     "metadata": {},
     "output_type": "execute_result"
    }
   ],
   "source": [
    "# Load model\n",
    "\n",
    "model_ft.load_state_dict(torch.load(\"VggNet_FER_weight.pt\"))"
   ]
  },
  {
   "cell_type": "code",
   "execution_count": 14,
   "id": "e37aa0cb-e32d-47ba-87d7-cc58733a88d7",
   "metadata": {},
   "outputs": [],
   "source": [
    "def topk_analysis(outputs, k, allbreeds):\n",
    "    outputs = outputs.to(\"cpu\")\n",
    "    predval, predix = torch.sort(outputs, descending=True)\n",
    "    return [allbreeds.loc[x.item()][\"Label_name\"] for x in predix[0][:k]]"
   ]
  },
  {
   "cell_type": "code",
   "execution_count": 21,
   "id": "c3bfa1b0-5781-4db7-b12f-7f66dcfaf7b9",
   "metadata": {},
   "outputs": [],
   "source": [
    "cls_name = {0:\"Surprise\", 1:\"Fear\", 2:\"Disgust\", 3:\"Happiness\",\n",
    "            4:\"Sadness\", 5:\"Anger\", 6:\"Neutral\"}"
   ]
  },
  {
   "cell_type": "code",
   "execution_count": 16,
   "id": "a73bdd88-7620-432c-8b65-912ec4d42dc0",
   "metadata": {},
   "outputs": [],
   "source": [
    "scene_name = pd.read_csv(\"fer_names.csv\")"
   ]
  },
  {
   "cell_type": "code",
   "execution_count": 28,
   "id": "0bd68794-73f4-4c7f-ba42-482e645967df",
   "metadata": {},
   "outputs": [
    {
     "data": {
      "application/vnd.jupyter.widget-view+json": {
       "model_id": "f7d86f11aa5d481c8915ec9ef2cee3a7",
       "version_major": 2,
       "version_minor": 0
      },
      "text/plain": [
       "  0%|          | 0/3068 [00:00<?, ?it/s]"
      ]
     },
     "metadata": {},
     "output_type": "display_data"
    }
   ],
   "source": [
    "#-----------------------------TEST IMAGES-----------------------\n",
    "\n",
    "# input data \n",
    "actual_label = []\n",
    "pred_label = []\n",
    "for inputs, lbs in test_dl:\n",
    "    for i in tqdm(range(3068)):\n",
    "        input_dl = DataLoader([inputs[i]], batch_size=1, shuffle=False, num_workers=2)\n",
    "        lbs_x = cls_name[int(lbs[i])]\n",
    "        for inputs_x in input_dl:\n",
    "            inputs_x = inputs_x.to(device) \n",
    "            model_ft.eval()\n",
    "            with torch.no_grad():\n",
    "                outputs_ = model_ft(inputs_x)\n",
    "                actual_label.append(lbs_x)\n",
    "                pred_label.append(topk_analysis(outputs_,3,scene_name))"
   ]
  },
  {
   "cell_type": "code",
   "execution_count": 29,
   "id": "89806203-8da3-40bf-b8f2-d80e4e6d1245",
   "metadata": {},
   "outputs": [],
   "source": [
    "compare_df = pd.DataFrame(data = pred_label, columns=[\"Top 1\", \"Top 2\", \"Top 3\"])\n",
    "compare_df[\"Actual Label\"] = actual_label"
   ]
  },
  {
   "cell_type": "code",
   "execution_count": 50,
   "id": "73c3ebe5-1b08-4288-960d-7760188469d8",
   "metadata": {},
   "outputs": [
    {
     "data": {
      "text/plain": [
       "92.8618"
      ]
     },
     "execution_count": 50,
     "metadata": {},
     "output_type": "execute_result"
    }
   ],
   "source": [
    "# top 3 accuracy and classificaion accuracy by class\n",
    "\n",
    "# classification by class accuracy\n",
    "cls_acc = {\"Surprise\":0, \"Fear\":0, \"Disgust\":0, \"Happiness\":0,\n",
    "            \"Sadness\" :0,\"Anger\":0, \"Neutral\":0}\n",
    "counter = 0\n",
    "for i, j in zip(actual_label, pred_label):\n",
    "    if i in j:\n",
    "        counter+=1\n",
    "        cls_acc[i]+=1\n",
    "\n",
    "for k in cls_acc.keys():\n",
    "    cls_acc[k] = (cls_acc[k]/(len(compare_df[compare_df[\"Actual Label\"]==k])))*100\n",
    "    \n",
    "top3_acc = round((counter/len(database_test))*100, 4)\n",
    "top3_acc"
   ]
  },
  {
   "cell_type": "code",
   "execution_count": 58,
   "id": "3c69e948-f0d3-4573-9160-b5b8518352fc",
   "metadata": {},
   "outputs": [
    {
     "data": {
      "text/html": [
       "<div>\n",
       "<style scoped>\n",
       "    .dataframe tbody tr th:only-of-type {\n",
       "        vertical-align: middle;\n",
       "    }\n",
       "\n",
       "    .dataframe tbody tr th {\n",
       "        vertical-align: top;\n",
       "    }\n",
       "\n",
       "    .dataframe thead th {\n",
       "        text-align: right;\n",
       "    }\n",
       "</style>\n",
       "<table border=\"1\" class=\"dataframe\">\n",
       "  <thead>\n",
       "    <tr style=\"text-align: right;\">\n",
       "      <th></th>\n",
       "      <th>Accuracy %</th>\n",
       "    </tr>\n",
       "  </thead>\n",
       "  <tbody>\n",
       "    <tr>\n",
       "      <th>Surprise</th>\n",
       "      <td>88.449848</td>\n",
       "    </tr>\n",
       "    <tr>\n",
       "      <th>Fear</th>\n",
       "      <td>71.621622</td>\n",
       "    </tr>\n",
       "    <tr>\n",
       "      <th>Disgust</th>\n",
       "      <td>78.750000</td>\n",
       "    </tr>\n",
       "    <tr>\n",
       "      <th>Happiness</th>\n",
       "      <td>95.611814</td>\n",
       "    </tr>\n",
       "    <tr>\n",
       "      <th>Sadness</th>\n",
       "      <td>97.698745</td>\n",
       "    </tr>\n",
       "    <tr>\n",
       "      <th>Anger</th>\n",
       "      <td>75.308642</td>\n",
       "    </tr>\n",
       "    <tr>\n",
       "      <th>Neutral</th>\n",
       "      <td>96.617647</td>\n",
       "    </tr>\n",
       "  </tbody>\n",
       "</table>\n",
       "</div>"
      ],
      "text/plain": [
       "           Accuracy %\n",
       "Surprise    88.449848\n",
       "Fear        71.621622\n",
       "Disgust     78.750000\n",
       "Happiness   95.611814\n",
       "Sadness     97.698745\n",
       "Anger       75.308642\n",
       "Neutral     96.617647"
      ]
     },
     "execution_count": 58,
     "metadata": {},
     "output_type": "execute_result"
    }
   ],
   "source": [
    "cls_by_acc = pd.DataFrame(index = list(cls_acc.keys()), data=list(cls_acc.values()), columns=[\"Accuracy %\"])\n",
    "cls_by_acc"
   ]
  },
  {
   "cell_type": "code",
   "execution_count": null,
   "id": "589ce12f-2272-418c-8b70-7925b37b5d4e",
   "metadata": {},
   "outputs": [],
   "source": []
  }
 ],
 "metadata": {
  "kernelspec": {
   "display_name": "Python 3 (ipykernel)",
   "language": "python",
   "name": "python3"
  },
  "language_info": {
   "codemirror_mode": {
    "name": "ipython",
    "version": 3
   },
   "file_extension": ".py",
   "mimetype": "text/x-python",
   "name": "python",
   "nbconvert_exporter": "python",
   "pygments_lexer": "ipython3",
   "version": "3.9.12"
  }
 },
 "nbformat": 4,
 "nbformat_minor": 5
}
